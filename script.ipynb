{
 "cells": [
  {
   "cell_type": "markdown",
   "id": "3616d4c3-aac0-48f0-9078-f190ee4742b4",
   "metadata": {},
   "source": [
    "# Step 1: EDA and Data Preprocessing"
   ]
  },
  {
   "cell_type": "markdown",
   "id": "6e05408d-8f12-4dfb-beac-2929500ead29",
   "metadata": {},
   "source": [
    "## Import neccessary modules"
   ]
  },
  {
   "cell_type": "code",
   "execution_count": 3,
   "id": "f812931d-8f52-41cb-83c5-d8aa03fa5719",
   "metadata": {},
   "outputs": [],
   "source": [
    "import pandas as pd\n",
    "import numpy as np\n",
    "import seaborn as sns\n",
    "import matplotlib.pyplot as plt\n",
    "sns.set()"
   ]
  },
  {
   "cell_type": "code",
   "execution_count": null,
   "id": "3d8fd89d-2e21-41bf-81f9-dbaf534a3f01",
   "metadata": {},
   "outputs": [],
   "source": []
  }
 ],
 "metadata": {
  "kernelspec": {
   "display_name": "Python [conda env:base] *",
   "language": "python",
   "name": "conda-base-py"
  },
  "language_info": {
   "codemirror_mode": {
    "name": "ipython",
    "version": 3
   },
   "file_extension": ".py",
   "mimetype": "text/x-python",
   "name": "python",
   "nbconvert_exporter": "python",
   "pygments_lexer": "ipython3",
   "version": "3.12.7"
  }
 },
 "nbformat": 4,
 "nbformat_minor": 5
}
